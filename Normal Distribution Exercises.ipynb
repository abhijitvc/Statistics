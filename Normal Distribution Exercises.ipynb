{
 "cells": [
  {
   "cell_type": "markdown",
   "metadata": {},
   "source": [
    "# normal distribution"
   ]
  },
  {
   "cell_type": "markdown",
   "metadata": {},
   "source": [
    "continuous "
   ]
  },
  {
   "cell_type": "markdown",
   "metadata": {},
   "source": [
    "problem \n",
    "#The weight of a certain category of watermelon follows normal distribution with mean 1.0 kg and standard deviation of 0.20 kg. Find:\n",
    "1. The probability that a watermelon weighs less than 1.5kg\n",
    "2. Probability that it weighs between 0.9kg and 1.2kg\n",
    "3. Probability that it weighs more than 1.6kg\n",
    "4. Percentage of watermelons that weigh between 0.8kg and\n",
    "1.50kg\n",
    "5. Among a group of 300 watermelons how many will weigh\n",
    "between 0.8kg and 1.5kg?\n"
   ]
  },
  {
   "cell_type": "code",
   "execution_count": 2,
   "metadata": {},
   "outputs": [],
   "source": [
    "import numpy as np\n",
    "import matplotlib.pyplot as plt\n",
    "import scipy.stats as sp"
   ]
  },
  {
   "cell_type": "code",
   "execution_count": 2,
   "metadata": {},
   "outputs": [
    {
     "data": {
      "text/plain": [
       "0.9937903346742238"
      ]
     },
     "execution_count": 2,
     "metadata": {},
     "output_type": "execute_result"
    }
   ],
   "source": [
    "#The probability that a watermelon weighs less than 1.5kg\n",
    "\n",
    "#sp.norm.cdf(1.2,1,0.2)-sp.norm.cdf(0.9,1,0.2)\n",
    "\n",
    "sp.norm.cdf(1.5,1,0.2) #sp.norm.cdf(probability, mean, standard deviation) #for less than"
   ]
  },
  {
   "cell_type": "code",
   "execution_count": 3,
   "metadata": {},
   "outputs": [
    {
     "data": {
      "text/plain": [
       "0.532807207342556"
      ]
     },
     "execution_count": 3,
     "metadata": {},
     "output_type": "execute_result"
    }
   ],
   "source": [
    "#Probability that it weighs between 0.9kg and 1.2kg\n",
    "\n",
    "sp.norm.cdf(1.2,1,0.2)-sp.norm.cdf(0.9,1,0.2)  #sp.norm.cdf(probability, mean, standard deviation)"
   ]
  },
  {
   "cell_type": "code",
   "execution_count": 3,
   "metadata": {},
   "outputs": [
    {
     "data": {
      "text/plain": [
       "0.0013498980316301035"
      ]
     },
     "execution_count": 3,
     "metadata": {},
     "output_type": "execute_result"
    }
   ],
   "source": [
    "#Probability that it weighs more than 1.6kg\n",
    "\n",
    "\n",
    "1-sp.norm.cdf(1.6,1,0.2)   # 1-sp.norm.cdf(probability, mean, standard deviation) #for more than"
   ]
  },
  {
   "cell_type": "code",
   "execution_count": 5,
   "metadata": {},
   "outputs": [
    {
     "name": "stdout",
     "output_type": "stream",
     "text": [
      "83.51350807427667\n"
     ]
    }
   ],
   "source": [
    "#Percentage of watermelons that weigh between 0.8kg and 1.50kg\n",
    "\n",
    "\n",
    "b=sp.norm.cdf(1.5,1,0.2)-sp.norm.cdf(0.8,1,0.2)  #between a certain range\n",
    "c=b*100  #to find percentage\n",
    "print(c)"
   ]
  },
  {
   "cell_type": "code",
   "execution_count": 18,
   "metadata": {},
   "outputs": [
    {
     "data": {
      "text/plain": [
       "250.54052422283004"
      ]
     },
     "execution_count": 18,
     "metadata": {},
     "output_type": "execute_result"
    }
   ],
   "source": [
    "#Among a group of 300 watermelons how many will weigh between 0.8kg and 1.5kg?\n",
    "(sp.norm.cdf(1.5,1,0.2)-sp.norm.cdf(0.8,1,0.2))*300"
   ]
  },
  {
   "cell_type": "markdown",
   "metadata": {},
   "source": [
    "the inside diameter of piston ring is normally distributed with mean of 4 inches and a standard deviation of o.o1 inches."
   ]
  },
  {
   "cell_type": "code",
   "execution_count": 7,
   "metadata": {},
   "outputs": [
    {
     "data": {
      "text/plain": [
       "0.6209665325775493"
      ]
     },
     "execution_count": 7,
     "metadata": {},
     "output_type": "execute_result"
    }
   ],
   "source": [
    "# what percentage of ring wil have \n",
    "a=1-sp.norm.cdf(4.025,4,0.01)   # 1-sp.norm.cdf(probability, mean, standard deviation)\n",
    "b=a*100\n",
    "b"
   ]
  },
  {
   "cell_type": "code",
   "execution_count": 8,
   "metadata": {},
   "outputs": [
    {
     "data": {
      "text/plain": [
       "0.6826894921370756"
      ]
     },
     "execution_count": 8,
     "metadata": {},
     "output_type": "execute_result"
    }
   ],
   "source": [
    "#between 4.01 and 3.99\n",
    "\n",
    "sp.norm.cdf(4.01,4,0.01)-sp.norm.cdf(3.99,4,0.01) #between a certain range"
   ]
  },
  {
   "cell_type": "code",
   "execution_count": 9,
   "metadata": {},
   "outputs": [
    {
     "data": {
      "text/plain": [
       "3.989635666105062"
      ]
     },
     "execution_count": 9,
     "metadata": {},
     "output_type": "execute_result"
    }
   ],
   "source": [
    "sp.norm.ppf(0.15,4,0.01) # inverse of cdf"
   ]
  },
  {
   "cell_type": "code",
   "execution_count": 10,
   "metadata": {},
   "outputs": [
    {
     "data": {
      "text/plain": [
       "0.14999999999999847"
      ]
     },
     "execution_count": 10,
     "metadata": {},
     "output_type": "execute_result"
    }
   ],
   "source": [
    "sp.norm.cdf(3.989635666105062,4,0.01)"
   ]
  },
  {
   "cell_type": "code",
   "execution_count": 11,
   "metadata": {},
   "outputs": [
    {
     "data": {
      "text/plain": [
       "3.9856046852906153"
      ]
     },
     "execution_count": 11,
     "metadata": {},
     "output_type": "execute_result"
    }
   ],
   "source": [
    "# what should be the inner diameter of the ring so that it does not fall in the lower\n",
    "#and higher values to the extent of 15%\n",
    "sp.norm.ppf(0.075,4,0.01)"
   ]
  },
  {
   "cell_type": "code",
   "execution_count": 12,
   "metadata": {},
   "outputs": [
    {
     "data": {
      "text/plain": [
       "4.014395314709384"
      ]
     },
     "execution_count": 12,
     "metadata": {},
     "output_type": "execute_result"
    }
   ],
   "source": [
    "sp.norm.ppf(0.925,4,0.01)"
   ]
  },
  {
   "cell_type": "markdown",
   "metadata": {},
   "source": [
    "# The weight of 1000 students is normally distributed with mean 40 kgs and standard deviation 4 kgs.  Find the number of students with weight (i) less than 50 kg, (ii) between 40 and 45 kgs."
   ]
  },
  {
   "cell_type": "code",
   "execution_count": 5,
   "metadata": {},
   "outputs": [
    {
     "data": {
      "text/plain": [
       "993.7903346742238"
      ]
     },
     "execution_count": 5,
     "metadata": {},
     "output_type": "execute_result"
    }
   ],
   "source": [
    "#66\n",
    "\n",
    "#1\n",
    "\n",
    "sp.norm.cdf(50,40,4)*1000"
   ]
  },
  {
   "cell_type": "code",
   "execution_count": 4,
   "metadata": {},
   "outputs": [
    {
     "data": {
      "text/plain": [
       "394.35022633314463"
      ]
     },
     "execution_count": 4,
     "metadata": {},
     "output_type": "execute_result"
    }
   ],
   "source": [
    "#66\n",
    "\n",
    "#2\n",
    "\n",
    "(sp.norm.cdf(45,40,4)-sp.norm.cdf(40,40,4))*1000"
   ]
  },
  {
   "cell_type": "code",
   "execution_count": 6,
   "metadata": {},
   "outputs": [
    {
     "data": {
      "text/plain": [
       "993.7903346742238"
      ]
     },
     "execution_count": 6,
     "metadata": {},
     "output_type": "execute_result"
    }
   ],
   "source": [
    "#66\n",
    "\n",
    "#1\n",
    "\n",
    "sp.norm.cdf(50,40,4)*1000"
   ]
  },
  {
   "cell_type": "markdown",
   "metadata": {},
   "source": [
    "#  The customers accounts at a departmental store have an average balance of 1200 and standard deviation of 400.  Assuming normal distribution, find (i) proportion of accounts with balance over 1500, (ii) proportion of accounts with balance between 1000 and 1500."
   ]
  },
  {
   "cell_type": "code",
   "execution_count": 7,
   "metadata": {},
   "outputs": [
    {
     "data": {
      "text/plain": [
       "0.22662735237686826"
      ]
     },
     "execution_count": 7,
     "metadata": {},
     "output_type": "execute_result"
    }
   ],
   "source": [
    "#67\n",
    "\n",
    "1-sp.norm.cdf(1500,1200,400)"
   ]
  },
  {
   "cell_type": "code",
   "execution_count": 8,
   "metadata": {},
   "outputs": [
    {
     "data": {
      "text/plain": [
       "0.46483510889714486"
      ]
     },
     "execution_count": 8,
     "metadata": {},
     "output_type": "execute_result"
    }
   ],
   "source": [
    "#67\n",
    "\n",
    "sp.norm.cdf(1500,1200,400)-sp.norm.cdf(1000,1200,400)"
   ]
  },
  {
   "cell_type": "markdown",
   "metadata": {},
   "source": [
    "# Assuming the height of soldiers is normally distributed with mean 68 and standard deviation 3 inches, find the number of soldiers in a regiment of 1000 with height (i) below 65 inches, (ii) above 72 inches, (iii) between 65 and 72 inches."
   ]
  },
  {
   "cell_type": "code",
   "execution_count": 9,
   "metadata": {},
   "outputs": [
    {
     "data": {
      "text/plain": [
       "158.65525393145708"
      ]
     },
     "execution_count": 9,
     "metadata": {},
     "output_type": "execute_result"
    }
   ],
   "source": [
    "#68\n",
    "\n",
    "#1 below 65 inches\n",
    "\n",
    "sp.norm.cdf(65,68,3)*1000"
   ]
  },
  {
   "cell_type": "code",
   "execution_count": 11,
   "metadata": {},
   "outputs": [
    {
     "data": {
      "text/plain": [
       "1.3498980316301035"
      ]
     },
     "execution_count": 11,
     "metadata": {},
     "output_type": "execute_result"
    }
   ],
   "source": [
    "#2 above 72 inches\n",
    "\n",
    "(1-sp.norm.cdf(72,63,3))*1000"
   ]
  },
  {
   "cell_type": "code",
   "execution_count": 3,
   "metadata": {},
   "outputs": [
    {
     "data": {
      "text/plain": [
       "750.133526342675"
      ]
     },
     "execution_count": 3,
     "metadata": {},
     "output_type": "execute_result"
    }
   ],
   "source": [
    "#3 between 65 and 72\n",
    "\n",
    "(sp.norm.cdf(72,68,3)-sp.norm.cdf(65,68,3))*1000"
   ]
  }
 ],
 "metadata": {
  "kernelspec": {
   "display_name": "Python 3",
   "language": "python",
   "name": "python3"
  },
  "language_info": {
   "codemirror_mode": {
    "name": "ipython",
    "version": 3
   },
   "file_extension": ".py",
   "mimetype": "text/x-python",
   "name": "python",
   "nbconvert_exporter": "python",
   "pygments_lexer": "ipython3",
   "version": "3.7.4"
  }
 },
 "nbformat": 4,
 "nbformat_minor": 2
}

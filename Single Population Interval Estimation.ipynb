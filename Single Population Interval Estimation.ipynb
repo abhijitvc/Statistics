{
 "cells": [
  {
   "cell_type": "markdown",
   "metadata": {
    "colab_type": "text",
    "id": "SjZGwMW9Lt6j"
   },
   "source": [
    "# INTERVAL ESTIMATION OF POPULATION MEAN"
   ]
  },
  {
   "cell_type": "code",
   "execution_count": 1,
   "metadata": {
    "colab": {},
    "colab_type": "code",
    "id": "ed9h_busQL8-"
   },
   "outputs": [],
   "source": [
    "import scipy.stats as sp\n",
    "import numpy as np"
   ]
  },
  {
   "cell_type": "markdown",
   "metadata": {
    "colab_type": "text",
    "id": "MX8bl28-L2x-"
   },
   "source": [
    "# 1) when standard deviation of population is known."
   ]
  },
  {
   "cell_type": "code",
   "execution_count": 0,
   "metadata": {
    "colab": {
     "base_uri": "https://localhost:8080/",
     "height": 245
    },
    "colab_type": "code",
    "executionInfo": {
     "elapsed": 1117,
     "status": "ok",
     "timestamp": 1587230450806,
     "user": {
      "displayName": "Audumbar Deo",
      "photoUrl": "",
      "userId": "12196449209333482094"
     },
     "user_tz": -330
    },
    "id": "-fg4VrglL8Gh",
    "outputId": "53352b34-02f4-4613-8ba4-d12408a06a95"
   },
   "outputs": [
    {
     "name": "stdout",
     "output_type": "stream",
     "text": [
      "alpha :  0.050000000000000044\n",
      "\n",
      "alpha / 2 :  0.025000000000000022\n",
      "\n",
      "(1-aplha/2) :  0.975\n",
      "\n",
      "STANDARD DEVIATION OF SAMPLING DISTRIBUTION  :  1.7925163190605438\n",
      "\n",
      "Z (aplha/2) :  -1.959963984540054\n",
      "\n",
      "MARGIN OF ERROR :  3.5132674270589743\n",
      "\n",
      "CONFIDENCE INTERVAL :  (44.48673257294102, 51.51326742705898)\n"
     ]
    }
   ],
   "source": [
    "import scipy.stats as sp\n",
    "import numpy as np\n",
    "\n",
    "n=61\n",
    "mean=48\n",
    "standard_deviation=14\n",
    "confidence_level=0.95    # if CL is 95%, then give input as 0.95\n",
    "a= (1-confidence_level)\n",
    "a2=  a / 2\n",
    "_1_a2 =  1- a2\n",
    "\n",
    "std_of_sampling_distribution= standard_deviation / np.sqrt(n)\n",
    "\n",
    "print(\"alpha : \",a)\n",
    "print()\n",
    "print(\"alpha / 2 : \",a2)\n",
    "print()\n",
    "print(\"(1-aplha/2) : \",_1_a2)\n",
    "print()\n",
    "print('STANDARD DEVIATION OF SAMPLING DISTRIBUTION  : ',std_of_sampling_distribution)\n",
    "print()\n",
    "print('Z (aplha/2) : ',sp.norm.ppf(a2))\n",
    "print()\n",
    "print ( 'MARGIN OF ERROR : ',abs(sp.norm.ppf(a2))*std_of_sampling_distribution)\n",
    "print()\n",
    "print('CONFIDENCE INTERVAL : ', sp.norm.interval(confidence_level,mean,std_of_sampling_distribution) )\n",
    "\n"
   ]
  },
  {
   "cell_type": "markdown",
   "metadata": {
    "colab_type": "text",
    "id": "JjrZ3SFxT2gb"
   },
   "source": [
    "# 2) when population std is unknkown and sample size is more than 30"
   ]
  },
  {
   "cell_type": "code",
   "execution_count": null,
   "metadata": {
    "colab": {
     "base_uri": "https://localhost:8080/",
     "height": 132
    },
    "colab_type": "code",
    "executionInfo": {
     "elapsed": 1176,
     "status": "error",
     "timestamp": 1587231102378,
     "user": {
      "displayName": "Audumbar Deo",
      "photoUrl": "",
      "userId": "12196449209333482094"
     },
     "user_tz": -330
    },
    "id": "KID_afsuUDbc",
    "outputId": "c6f0bca3-e4e8-4c02-b02d-4ec5b42bea7f"
   },
   "outputs": [],
   "source": [
    "import scipy.stats as sp\n",
    "import numpy as np\n",
    "\n",
    "n=\n",
    "confidence_level=     #if CL is 95%, then give input as 0.95\n",
    "sample_mean=\n",
    "std_of_sample=\n",
    "a= (1-confidence_level)\n",
    "a2=  a / 2\n",
    "_1_a2 =  1- a2\n",
    "std_of_sampling_distribution= std_of_sample  /  np.sqrt(n)\n",
    "print(\"alpha : \",a)\n",
    "print()\n",
    "print(\"alpha / 2 : \",a2)\n",
    "print()\n",
    "print(\"(1-aplha/2) : \",_1_a2)\n",
    "print()\n",
    "print('STANDARD DEVIATION OF SAMPLING DISTRIBUTION  : ',std_of_sampling_distribution)\n",
    "print()\n",
    "print('Z (aplha/2) : ',sp.norm.ppf(a2))\n",
    "print()\n",
    "print ( 'MARGIN OF ERROR : ',abs(sp.norm.ppf(a2))*std_of_sampling_distribution)\n",
    "print()\n",
    "print(sp.norm.interval(confidence_level,sample_mean,std_of_sampling_distribution))"
   ]
  },
  {
   "cell_type": "markdown",
   "metadata": {
    "colab_type": "text",
    "id": "VsIFY3IdVfRG"
   },
   "source": [
    "# 3)when population std is unknkown and sample size is less than 30\n"
   ]
  },
  {
   "cell_type": "code",
   "execution_count": 5,
   "metadata": {
    "colab": {
     "base_uri": "https://localhost:8080/",
     "height": 263
    },
    "colab_type": "code",
    "executionInfo": {
     "elapsed": 1531,
     "status": "ok",
     "timestamp": 1587274469207,
     "user": {
      "displayName": "Audumbar Deo",
      "photoUrl": "",
      "userId": "12196449209333482094"
     },
     "user_tz": -330
    },
    "id": "k_TSzUX-Vptb",
    "outputId": "8e6dce85-21d1-4c2e-f0b7-7d8fcc7e8f38"
   },
   "outputs": [
    {
     "name": "stdout",
     "output_type": "stream",
     "text": [
      "alpha :  0.010000000000000009\n",
      "\n",
      "alpha / 2 :  0.0050000000000000044\n",
      "\n",
      "(1-aplha/2) :  0.995\n",
      "\n",
      "STANDARD DEVIATION OF SAMPLING DISTRIBUTION  :  69.7137002317335\n",
      "\n",
      "t (aplha/2) :  -2.97684273411266\n",
      "t 1-(alpha/2) :  2.97684273411266\n",
      "\n",
      "MARGIN OF ERROR :  207.52672200294393\n",
      "\n",
      "(1022.4732779970561, 1437.5267220029439)\n"
     ]
    }
   ],
   "source": [
    "import scipy.stats as sp\n",
    "import numpy as np\n",
    "\n",
    "n=15  \n",
    "confidence_level=0.99  #if CL is 95%, then give input as 0.95\n",
    "sample_mean=1230\n",
    "std_of_sample= 270\n",
    "degree_of_freedom= n-1\n",
    "a= (1-confidence_level)\n",
    "a2=  a / 2\n",
    "_1_a2 =  1- a2\n",
    "std_of_sampling_distribution= std_of_sample / np.sqrt(n)\n",
    "print(\"alpha : \",a)\n",
    "print()\n",
    "print(\"alpha / 2 : \",a2)\n",
    "print()\n",
    "print(\"(1-aplha/2) : \",_1_a2)\n",
    "print() \n",
    "print('STANDARD DEVIATION OF SAMPLING DISTRIBUTION  : ',std_of_sampling_distribution)\n",
    "print()\n",
    "print('t (aplha/2) : ',sp.t.ppf(a2,degree_of_freedom))\n",
    "print('t 1-(alpha/2) : ',sp.t.ppf(_1_a2,degree_of_freedom) )\n",
    "print()\n",
    "print ( 'MARGIN OF ERROR : ',abs(sp.t.ppf(a2,degree_of_freedom))*std_of_sampling_distribution)\n",
    "print()\n",
    "print(sp.t.interval(confidence_level,degree_of_freedom,sample_mean,std_of_sampling_distribution))\n"
   ]
  },
  {
   "cell_type": "markdown",
   "metadata": {
    "colab_type": "text",
    "id": "pekyzFo5VwFI"
   },
   "source": [
    "# Interval Estimation of Single population proportion"
   ]
  },
  {
   "cell_type": "code",
   "execution_count": 1,
   "metadata": {
    "colab": {
     "base_uri": "https://localhost:8080/",
     "height": 263
    },
    "colab_type": "code",
    "executionInfo": {
     "elapsed": 1454,
     "status": "ok",
     "timestamp": 1587275379941,
     "user": {
      "displayName": "Audumbar Deo",
      "photoUrl": "",
      "userId": "12196449209333482094"
     },
     "user_tz": -330
    },
    "id": "vglXBFxmCSNQ",
    "outputId": "ee325157-24b0-439c-ec21-fd61b0d62bad"
   },
   "outputs": [
    {
     "name": "stdout",
     "output_type": "stream",
     "text": [
      "alpha :  0.010000000000000009\n",
      "\n",
      "alpha / 2 :  0.0050000000000000044\n",
      "\n",
      "(1-aplha/2) :  0.995\n",
      "\n",
      "STANDARD DEVIATION OF SAMPLING DISTRIBUTION  :  0.049749371855330994\n",
      "\n",
      "Z (aplha/2) :  -2.5758293035489004\n",
      "Z (1-(alpha/2)) 2.5758293035489004\n",
      "\n",
      "MARGIN OF ERROR :  0.1281458898581125\n",
      "\n",
      "(0.42185411014188756, 0.6781458898581125)\n"
     ]
    }
   ],
   "source": [
    "import scipy.stats as sp\n",
    "import numpy as np\n",
    "\n",
    "Pcap= 0.55\n",
    "n=100\n",
    "confidence_level= 0.99     #if CL is 95%, then give input as 0.95\n",
    "a= (1-confidence_level)\n",
    "a2=  a / 2\n",
    "_1_a2 =  1- a2\n",
    "std=np.sqrt((Pcap*(1-Pcap))/n)\n",
    "print(\"alpha : \",a)\n",
    "print()\n",
    "print(\"alpha / 2 : \",a2)\n",
    "print()\n",
    "print(\"(1-aplha/2) : \",_1_a2)\n",
    "print()\n",
    "print('STANDARD DEVIATION OF SAMPLING DISTRIBUTION  : ',std)\n",
    "print()\n",
    "print('Z (aplha/2) : ',sp.norm.ppf(a2))\n",
    "print('Z (1-(alpha/2))',sp.norm.ppf(_1_a2))\n",
    "print()\n",
    "print ( 'MARGIN OF ERROR : ',abs(sp.norm.ppf(a2)*std))\n",
    "print()\n",
    "print(sp.norm.interval(confidence_level,Pcap,std))"
   ]
  },
  {
   "cell_type": "markdown",
   "metadata": {},
   "source": [
    "# Interval Estimation of 2 Population Proportions"
   ]
  },
  {
   "cell_type": "code",
   "execution_count": 3,
   "metadata": {
    "colab": {},
    "colab_type": "code",
    "id": "xd9NhIbP-wsz"
   },
   "outputs": [
    {
     "name": "stdout",
     "output_type": "stream",
     "text": [
      "Enter proportion 1: 0.64\n",
      "Enter proportion 2: 0.9648\n",
      "Enter 1st sample size: 100\n",
      "Enter 2nd sample size: 200\n",
      "Enter (1-alpha/2) value: 1.645\n",
      "C.I.=  [-0.32992845934483317, -0.32992845934483317]\n"
     ]
    }
   ],
   "source": [
    "#4 Using umesh sir's formula for two populations\n",
    "\n",
    "p1 = float(input(\"Enter proportion 1: \"))\n",
    "p2 = float(input(\"Enter proportion 2: \"))\n",
    "\n",
    "n1 = int(input(\"Enter 1st sample size: \"))\n",
    "n2 = int(input(\"Enter 2nd sample size: \"))\n",
    "\n",
    "z1 = float(input(\"Enter (1-alpha/2) value: \"))\n",
    "z = sp.norm.pdf(z1)\n",
    "ans=[]\n",
    "\n",
    "p = p1-p2\n",
    "LowerLimit = p-z*(((p1*(1-p1))/n1)+(p2*(1-p2))/n2)**0.5\n",
    "ans.append(LowerLimit)\n",
    "\n",
    "UpperLimit = p-z*(((p1*(1-p1))/n1)+(p2*(1-p2))/n2)**0.5\n",
    "ans.append(UpperLimit)\n",
    "print(\"C.I.= \",ans)"
   ]
  }
 ],
 "metadata": {
  "colab": {
   "authorship_tag": "ABX9TyPh4xaz2q9/QTXkiT7J6mM4",
   "collapsed_sections": [],
   "name": "single population codes.ipynb",
   "provenance": []
  },
  "kernelspec": {
   "display_name": "Python 3",
   "language": "python",
   "name": "python3"
  },
  "language_info": {
   "codemirror_mode": {
    "name": "ipython",
    "version": 3
   },
   "file_extension": ".py",
   "mimetype": "text/x-python",
   "name": "python",
   "nbconvert_exporter": "python",
   "pygments_lexer": "ipython3",
   "version": "3.7.4"
  }
 },
 "nbformat": 4,
 "nbformat_minor": 1
}

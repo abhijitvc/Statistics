{
 "cells": [
  {
   "cell_type": "markdown",
   "metadata": {},
   "source": [
    "# 2 Populations 2 Proportions Formula"
   ]
  },
  {
   "cell_type": "code",
   "execution_count": null,
   "metadata": {},
   "outputs": [],
   "source": [
    "import scipy.stats as sp\n",
    "import numpy as np\n",
    "\n",
    "p1 = float(input(\"Enter proportion 1: \"))\n",
    "p2 = float(input(\"Enter proportion 2: \"))\n",
    "\n",
    "n1 = int(input(\"Enter 1st sample size: \"))\n",
    "n2 = int(input(\"Enter 2nd sample size: \"))\n",
    "\n",
    "z1 = float(input(\"Enter (1-alpha/2) value: \"))\n",
    "z = sp.norm.pdf(z1)\n",
    "ans=[]\n",
    "\n",
    "p = p1-p2\n",
    "LowerLimit = p-z*(((p1*(1-p1))/n1)+(p2*(1-p2))/n2)**0.5\n",
    "ans.append(LowerLimit)\n",
    "\n",
    "UpperLimit = p-z*(((p1*(1-p1))/n1)+(p2*(1-p2))/n2)**0.5\n",
    "ans.append(UpperLimit)\n",
    "print(\"C.I.= \",ans)"
   ]
  },
  {
   "cell_type": "markdown",
   "metadata": {},
   "source": [
    "# 2 Populations 2 Proportions Formula Solved Example"
   ]
  },
  {
   "cell_type": "code",
   "execution_count": 11,
   "metadata": {},
   "outputs": [
    {
     "name": "stdout",
     "output_type": "stream",
     "text": [
      "Enter proportion 1: 0.64\n",
      "Enter proportion 2: 0.48\n",
      "Enter 1st sample size: 100\n",
      "Enter 2nd sample size: 200\n",
      "Enter (1-alpha/2) value: 1.645\n",
      "C.I.=  [0.1538547340642498, 0.16614526593575027]\n"
     ]
    }
   ],
   "source": [
    "#4.\n",
    "\n",
    "import scipy.stats as sp\n",
    "import numpy as np\n",
    "\n",
    "p1 = float(input(\"Enter proportion 1: \"))\n",
    "p2 = float(input(\"Enter proportion 2: \"))\n",
    "\n",
    "n1 = int(input(\"Enter 1st sample size: \"))\n",
    "n2 = int(input(\"Enter 2nd sample size: \"))\n",
    "\n",
    "z1 = float(input(\"Enter (1-alpha/2) value: \"))\n",
    "z = sp.norm.pdf(z1)\n",
    "ans=[]\n",
    "\n",
    "p = p1-p2\n",
    "LowerLimit = p-z*(((p1*(1-p1))/n1)+(p2*(1-p2))/n2)**0.5\n",
    "ans.append(LowerLimit)\n",
    "\n",
    "UpperLimit = p+z*(((p1*(1-p1))/n1)+(p2*(1-p2))/n2)**0.5\n",
    "ans.append(UpperLimit)\n",
    "print(\"C.I.= \",ans)"
   ]
  },
  {
   "cell_type": "code",
   "execution_count": null,
   "metadata": {},
   "outputs": [],
   "source": [
    "#1\n",
    "\n",
    "import scipy.stats as ss\n",
    "import numpy as np\n",
    "\n",
    "s1=6.633\n",
    "s2=1.433\n",
    "n1=150\n",
    "n2=200\n",
    "N=((s1**2/n1)+(s2**2/n2))**2\n",
    "D1=(1/(n1-1))*((s1**2)/n1)**2\n",
    "D2=(1/(n2-1))*((s2**2)/n2)**2\n",
    "\n",
    "df=N/(D1+D2)\n",
    "df\n",
    "t=ss.t.ppf(0.975,df)\n",
    "\n",
    "x1bar=32.088\n",
    "x2bar=12.671\n",
    "CIl=(x1bar-x2bar)+t*((s1**2/n1)+(s2**2/n2))**(1/2)\n",
    "CIu=(x1bar-x2bar)-t*((s1**2/n1)+(s2**2/n2))**(1/2)\n",
    "print(CIl,CIu)\n",
    "\n",
    "x1bar=4.5\n",
    "x2bar=3.4\n",
    "s1=1\n",
    "s2=1.22474\n",
    "n1=12\n",
    "n2=15\n",
    "t2=ss.t.ppf(0.025,(n1+n2-2))\n",
    "Sp=(((n1-1)*(s1**2)/(n1+n2-2))+((n2-1)*(s2**2)/(n1+n2-2)))**(1/2)\n",
    "SE=(Sp*((1/n1)+(1/n2)))**(1/2)\n",
    "CIl=(x1bar-x2bar) +t2*SE\n",
    "CIu=(x1bar-x2bar) -t2*SE\n",
    "print(CIl,CIu)"
   ]
  },
  {
   "cell_type": "markdown",
   "metadata": {},
   "source": [
    "# 1.  The local baseball team conducts a study to find the amount spent on refreshments at the ball park. Over the course of the season they gather simple random samples of 500 men and 1000 women For men, the average expenditure was $20, with a standard deviation of $3. For women, it was $15, with a standard deviation of $2. What is the 99% confidence interval for the spending difference between men and women?"
   ]
  },
  {
   "cell_type": "code",
   "execution_count": 18,
   "metadata": {},
   "outputs": [
    {
     "name": "stdout",
     "output_type": "stream",
     "text": [
      "For t-distribution: 5.383062136704947 4.616937863295053\n",
      "\n",
      "For t-distribution: 4.782057471302332 5.217942528697668\n"
     ]
    }
   ],
   "source": [
    "import scipy.stats as ss\n",
    "import numpy as np\n",
    "\n",
    "s1=3\n",
    "s2=2\n",
    "n1=500\n",
    "n2=1000\n",
    "N=((s1**2/n1)+(s2**2/n2))**2\n",
    "D1=(1/(n1-1))*((s1**2)/n1)**2\n",
    "D2=(1/(n2-1))*((s2**2)/n2)**2\n",
    "\n",
    "df=N/(D1+D2)\n",
    "df\n",
    "t=ss.t.ppf(0.995,df) #for 99% C.I.\n",
    "\n",
    "x1bar=20\n",
    "x2bar=15\n",
    "CIl=(x1bar-x2bar)+t*((s1**2/n1)+(s2**2/n2))**(1/2)\n",
    "CIu=(x1bar-x2bar)-t*((s1**2/n1)+(s2**2/n2))**(1/2)\n",
    "print(\"For t-distribution:\",CIl,CIu)\n",
    "print()\n",
    "\n",
    "x1bar=20\n",
    "x2bar=15\n",
    "s1=3\n",
    "s2=2\n",
    "n1=500\n",
    "n2=1000\n",
    "t2=ss.t.ppf(0.005,(n1+n2-2))  #for 99% C.I.\n",
    "Sp=(((n1-1)*(s1**2)/(n1+n2-2))+((n2-1)*(s2**2)/(n1+n2-2)))**(1/2)\n",
    "SE=(Sp*((1/n1)+(1/n2)))**(1/2)\n",
    "CIl=(x1bar-x2bar) +t2*SE\n",
    "CIu=(x1bar-x2bar) -t2*SE\n",
    "print(\"For t-distribution:\",CIl,CIu)"
   ]
  },
  {
   "cell_type": "markdown",
   "metadata": {},
   "source": [
    "# 2.  Suppose that simple random samples of college freshman are selected from two universities - 15 students from school A and 20 students from school B. On a standardized test, the sample from school A has an average score of 1000 with a standard deviation of 100. The sample from school B has an average score of 950 with a standard deviation of 90. What is the 90% confidence interval for the difference in test scores at the two schools, assuming that test scores came from normal distributions in both schools?"
   ]
  },
  {
   "cell_type": "code",
   "execution_count": 20,
   "metadata": {},
   "outputs": [
    {
     "name": "stdout",
     "output_type": "stream",
     "text": [
      "For t-distribution: 105.65916445569133 -5.659164455691332\n",
      "\n",
      "For t-distribution: 41.24323009671156 58.75676990328844\n"
     ]
    }
   ],
   "source": [
    "import scipy.stats as ss\n",
    "import numpy as np\n",
    "\n",
    "s1=100\n",
    "s2=90\n",
    "n1=15\n",
    "n2=20\n",
    "N=((s1**2/n1)+(s2**2/n2))**2\n",
    "D1=(1/(n1-1))*((s1**2)/n1)**2\n",
    "D2=(1/(n2-1))*((s2**2)/n2)**2\n",
    "\n",
    "df=N/(D1+D2)\n",
    "df\n",
    "t=ss.t.ppf(0.95,df) #for 90% C.I.\n",
    "\n",
    "x1bar=1000\n",
    "x2bar=950\n",
    "CIl=(x1bar-x2bar)+t*((s1**2/n1)+(s2**2/n2))**(1/2)\n",
    "CIu=(x1bar-x2bar)-t*((s1**2/n1)+(s2**2/n2))**(1/2)\n",
    "print(\"For t-distribution:\",CIl,CIu)\n",
    "print()\n",
    "\n",
    "x1bar=1000\n",
    "x2bar=950\n",
    "s1=100\n",
    "s2=290\n",
    "n1=15\n",
    "n2=20\n",
    "t2=ss.t.ppf(0.05,(n1+n2-2))  #for 90% C.I.\n",
    "Sp=(((n1-1)*(s1**2)/(n1+n2-2))+((n2-1)*(s2**2)/(n1+n2-2)))**(1/2)\n",
    "SE=(Sp*((1/n1)+(1/n2)))**(1/2)\n",
    "CIl=(x1bar-x2bar) +t2*SE\n",
    "CIu=(x1bar-x2bar) -t2*SE\n",
    "print(\"For t-distribution:\",CIl,CIu)"
   ]
  }
 ],
 "metadata": {
  "kernelspec": {
   "display_name": "Python 3",
   "language": "python",
   "name": "python3"
  },
  "language_info": {
   "codemirror_mode": {
    "name": "ipython",
    "version": 3
   },
   "file_extension": ".py",
   "mimetype": "text/x-python",
   "name": "python",
   "nbconvert_exporter": "python",
   "pygments_lexer": "ipython3",
   "version": "3.7.4"
  }
 },
 "nbformat": 4,
 "nbformat_minor": 2
}

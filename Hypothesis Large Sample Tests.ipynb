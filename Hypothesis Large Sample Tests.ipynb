{
 "cells": [
  {
   "cell_type": "markdown",
   "metadata": {},
   "source": [
    "# 1.  Suppose the manufacturer claims that the mean lifetime of a light bulb is more than 10,000 hours. In a sample of 30 light bulbs, it was found that they only last 9,900 hours on average. Assume the population standard deviation is 120 hours. At .05 significance level, test the claim by the manufacturer?"
   ]
  },
  {
   "cell_type": "markdown",
   "metadata": {},
   "source": [
    "# Z-Test, Test for Mean, when population S.D. is known. 1 POPn"
   ]
  },
  {
   "cell_type": "code",
   "execution_count": 1,
   "metadata": {},
   "outputs": [
    {
     "name": "stdout",
     "output_type": "stream",
     "text": [
      "-4.564354645876384\n"
     ]
    }
   ],
   "source": [
    "import scipy.stats as sp\n",
    "import numpy as np\n",
    "\n",
    "xbar = 9900\n",
    "\n",
    "mu_zero = 10000\n",
    "\n",
    "sigma = 120\n",
    "\n",
    "n = 30\n",
    "\n",
    "a = xbar-mu_zero\n",
    "\n",
    "b = sigma/np.sqrt(n)\n",
    "\n",
    "z = a/b\n",
    "\n",
    "print(z)"
   ]
  },
  {
   "cell_type": "code",
   "execution_count": 2,
   "metadata": {},
   "outputs": [
    {
     "name": "stdout",
     "output_type": "stream",
     "text": [
      "H0 is rejected.\n"
     ]
    }
   ],
   "source": [
    "z_alpha = 1.96\n",
    "\n",
    "if z<z_alpha:\n",
    "    print(\"H0 is rejected.\")\n",
    "else:\n",
    "    print(\"H0 is accepted.\")"
   ]
  },
  {
   "cell_type": "markdown",
   "metadata": {},
   "source": [
    "# Z test for mean when Population standard deviation is Unknown. 1 POPn."
   ]
  },
  {
   "cell_type": "code",
   "execution_count": 3,
   "metadata": {},
   "outputs": [
    {
     "name": "stdout",
     "output_type": "stream",
     "text": [
      "2.3804761428476193\n"
     ]
    }
   ],
   "source": [
    "#2\n",
    "\n",
    "import scipy.stats as sp\n",
    "import numpy as np\n",
    "\n",
    "xbar = 2.1\n",
    "\n",
    "mu_zero = 2\n",
    "\n",
    "sigma = 0.3\n",
    "\n",
    "n = 51\n",
    "\n",
    "a = xbar-mu_zero\n",
    "\n",
    "b = sigma/np.sqrt(n)\n",
    "\n",
    "z = a/b\n",
    "\n",
    "print(z)"
   ]
  },
  {
   "cell_type": "code",
   "execution_count": 4,
   "metadata": {},
   "outputs": [
    {
     "name": "stdout",
     "output_type": "stream",
     "text": [
      "0.000375\n"
     ]
    }
   ],
   "source": [
    "a = (0.25*(1-0.25))/500\n",
    "print(a)"
   ]
  },
  {
   "cell_type": "code",
   "execution_count": 5,
   "metadata": {},
   "outputs": [
    {
     "data": {
      "text/plain": [
       "0.000234375"
      ]
     },
     "execution_count": 5,
     "metadata": {},
     "output_type": "execute_result"
    }
   ],
   "source": [
    "b = (0.375*(1-0.375))/1000\n",
    "b"
   ]
  },
  {
   "cell_type": "code",
   "execution_count": 6,
   "metadata": {},
   "outputs": [
    {
     "data": {
      "text/plain": [
       "0.024685522072664372"
      ]
     },
     "execution_count": 6,
     "metadata": {},
     "output_type": "execute_result"
    }
   ],
   "source": [
    "import numpy as np\n",
    "\n",
    "c = np.sqrt(a+b)\n",
    "c"
   ]
  },
  {
   "cell_type": "code",
   "execution_count": 7,
   "metadata": {},
   "outputs": [
    {
     "name": "stdout",
     "output_type": "stream",
     "text": [
      "5.063696835418333\n"
     ]
    }
   ],
   "source": [
    "d = 0.125/c\n",
    "\n",
    "print(d)"
   ]
  },
  {
   "cell_type": "markdown",
   "metadata": {},
   "source": [
    "# Standard Deviation Formula"
   ]
  },
  {
   "cell_type": "code",
   "execution_count": null,
   "metadata": {},
   "outputs": [],
   "source": [
    "mean = \n",
    "\n",
    "n = \n",
    "\n",
    "sd = (mean*(mean-1))/n)\n",
    "\n",
    "print(sd) #Standard deviation"
   ]
  },
  {
   "cell_type": "markdown",
   "metadata": {},
   "source": [
    "# P cap formula"
   ]
  },
  {
   "cell_type": "code",
   "execution_count": null,
   "metadata": {},
   "outputs": [],
   "source": [
    "proportion = \n",
    "\n",
    "n = \n",
    "\n",
    "pcap = proportion/n\n",
    "\n",
    "print(pcap)"
   ]
  },
  {
   "cell_type": "markdown",
   "metadata": {},
   "source": [
    "# STANDARD SCORE FORMULA"
   ]
  },
  {
   "cell_type": "code",
   "execution_count": 1,
   "metadata": {},
   "outputs": [
    {
     "name": "stdout",
     "output_type": "stream",
     "text": [
      "\n",
      "arr1 :  [[20, 2, 7, 1, 34], [50, 12, 12, 34, 4]]\n",
      "\n",
      "arr2 :  [[50, 12, 12, 34, 4], [12, 11, 10, 34, 21]]\n",
      "\n",
      "Z-score for arr1 : \n",
      " [[-1. -1. -1. -1.  1.]\n",
      " [ 1.  1.  1.  1. -1.]]\n",
      "\n",
      "Z-score for arr1 : \n",
      " [[ 0.57251144 -0.85876716 -0.46118977 -0.93828264  1.68572813]\n",
      " [ 1.62005758 -0.61045648 -0.61045648  0.68089376 -1.08003838]]\n"
     ]
    }
   ],
   "source": [
    "# stats.zscore() method \n",
    "\n",
    "import numpy as np \n",
    "from scipy import stats \n",
    "    \n",
    "arr1 = [[20, 2, 7, 1, 34], \n",
    "        [50, 12, 12, 34, 4]] \n",
    "  \n",
    "arr2 = [[50, 12, 12, 34, 4],  \n",
    "        [12, 11, 10, 34, 21]] \n",
    "  \n",
    "print (\"\\narr1 : \", arr1) \n",
    "print (\"\\narr2 : \", arr2) \n",
    "  \n",
    "print (\"\\nZ-score for arr1 : \\n\", stats.zscore(arr1)) \n",
    "print (\"\\nZ-score for arr1 : \\n\", stats.zscore(arr1, axis = 1))"
   ]
  },
  {
   "cell_type": "code",
   "execution_count": 2,
   "metadata": {},
   "outputs": [
    {
     "name": "stdout",
     "output_type": "stream",
     "text": [
      "\n",
      "Z-score for arr2 : \n",
      " [[ 1.  1.  1. nan -1.]\n",
      " [-1. -1. -1. nan  1.]]\n",
      "\n",
      "Z-score for arr2 : \n",
      " [[ 1.62005758 -0.61045648 -0.61045648  0.68089376 -1.08003838]\n",
      " [-0.61601725 -0.72602033 -0.83602341  1.80405051  0.37401047]]\n"
     ]
    },
    {
     "name": "stderr",
     "output_type": "stream",
     "text": [
      "C:\\Users\\Abhijit Chendvankar\\Anaconda3\\lib\\site-packages\\scipy\\stats\\stats.py:2419: RuntimeWarning: invalid value encountered in true_divide\n",
      "  return (a - mns) / sstd\n"
     ]
    }
   ],
   "source": [
    "import numpy as np \n",
    "from scipy import stats \n",
    "   \n",
    "arr2 = [[50, 12, 12, 34, 4],  \n",
    "        [12, 11, 10, 34, 21]] \n",
    "  \n",
    "print (\"\\nZ-score for arr2 : \\n\", stats.zscore(arr2, axis = 0)) \n",
    "print (\"\\nZ-score for arr2 : \\n\", stats.zscore(arr2, axis = 1)) "
   ]
  },
  {
   "cell_type": "markdown",
   "metadata": {},
   "source": [
    "# Test for Equality of Means when S.D. is known 2 POPULATIONS"
   ]
  },
  {
   "cell_type": "code",
   "execution_count": null,
   "metadata": {},
   "outputs": [],
   "source": [
    "x1 = 74\n",
    "x2 = 78\n",
    "n1 = 40\n",
    "n2 = 50\n",
    "sd1 = 8     #when only one standard deviation is known assume its value for both populations\n",
    "sd2 = 7\n",
    "\n",
    "z = (x2-x1)/(np.sqrt((sd1*sd1/n1)+(sd2*sd2/n2)))\n",
    "print(z)"
   ]
  },
  {
   "cell_type": "code",
   "execution_count": null,
   "metadata": {},
   "outputs": [],
   "source": [
    "#6\n",
    "\n",
    "x1 = 74\n",
    "x2 = 75\n",
    "n1 = 40\n",
    "n2 = 50\n",
    "sd = 7\n",
    "\n",
    "z = (x2-x1)/(np.sqrt((sd*sd/n1)+(sd*sd/n2)))\n",
    "print(z)"
   ]
  },
  {
   "cell_type": "code",
   "execution_count": null,
   "metadata": {},
   "outputs": [],
   "source": [
    "#7\n",
    "\n",
    "x1 = 74\n",
    "x2 = 75\n",
    "n1 = 40\n",
    "n2 = 50\n",
    "sd = 7\n",
    "\n",
    "z = (x2-x1)/(np.sqrt((sd*sd/n1)+(sd*sd/n2)))\n",
    "print(z)"
   ]
  },
  {
   "cell_type": "code",
   "execution_count": null,
   "metadata": {},
   "outputs": [],
   "source": [
    "import scipy.stats as sp\n",
    "\n",
    "sp.norm.ppf(0.025)"
   ]
  },
  {
   "cell_type": "code",
   "execution_count": null,
   "metadata": {},
   "outputs": [],
   "source": [
    "sp.norm.ppf(0.95)"
   ]
  },
  {
   "cell_type": "code",
   "execution_count": 9,
   "metadata": {},
   "outputs": [
    {
     "name": "stdout",
     "output_type": "stream",
     "text": [
      "2.4902912254587615\n"
     ]
    }
   ],
   "source": [
    "#\n",
    "\n",
    "x1 = 74\n",
    "x2 = 78\n",
    "n1 = 40\n",
    "n2 = 50\n",
    "sd1 = 8\n",
    "sd2 = 7\n",
    "\n",
    "z = (x2-x1)/(np.sqrt((sd1*sd1/n1)+(sd2*sd2/n2)))\n",
    "print(z)"
   ]
  },
  {
   "cell_type": "code",
   "execution_count": 10,
   "metadata": {},
   "outputs": [
    {
     "name": "stderr",
     "output_type": "stream",
     "text": [
      "C:\\Users\\Abhijit Chendvankar\\Anaconda3\\lib\\site-packages\\numpy\\core\\_methods.py:140: RuntimeWarning: Degrees of freedom <= 0 for slice\n",
      "  keepdims=keepdims)\n",
      "C:\\Users\\Abhijit Chendvankar\\Anaconda3\\lib\\site-packages\\numpy\\core\\_methods.py:132: RuntimeWarning: invalid value encountered in double_scalars\n",
      "  ret = ret.dtype.type(ret / rcount)\n"
     ]
    },
    {
     "data": {
      "text/plain": [
       "nan"
      ]
     },
     "execution_count": 10,
     "metadata": {},
     "output_type": "execute_result"
    }
   ],
   "source": [
    "np.std(46,ddof=1)"
   ]
  },
  {
   "cell_type": "code",
   "execution_count": 6,
   "metadata": {},
   "outputs": [
    {
     "name": "stdout",
     "output_type": "stream",
     "text": [
      "12.947225421738217\n"
     ]
    }
   ],
   "source": [
    "#sample question paper\n",
    "\n",
    "#1\n",
    "\n",
    "import numpy as np\n",
    "import scipy.stats as sp\n",
    "\n",
    "#\n",
    "\n",
    "x1 = 20.14458\n",
    "x2 = 30.48101\n",
    "n1 = 249\n",
    "n2 = 79\n",
    "sd1 = 6.41470     #when only one standard deviation is known assume its value for both populations\n",
    "sd2 = 6.1071\n",
    "\n",
    "z = (x2-x1)/(np.sqrt((sd1*sd1/n1)+(sd2*sd2/n2)))\n",
    "print(z)"
   ]
  },
  {
   "cell_type": "code",
   "execution_count": 3,
   "metadata": {},
   "outputs": [
    {
     "data": {
      "text/plain": [
       "2.111111111111111"
      ]
     },
     "execution_count": 3,
     "metadata": {},
     "output_type": "execute_result"
    }
   ],
   "source": [
    "#2\n",
    "\n",
    "ex = [1, 3, 6, 0, 1, 1, 2, 1, 4]\n",
    "\n",
    "np.mean(ex)"
   ]
  },
  {
   "cell_type": "code",
   "execution_count": 4,
   "metadata": {},
   "outputs": [
    {
     "data": {
      "text/plain": [
       "1.90029237516523"
      ]
     },
     "execution_count": 4,
     "metadata": {},
     "output_type": "execute_result"
    }
   ],
   "source": [
    "np.std(ex,ddof=1)"
   ]
  },
  {
   "cell_type": "code",
   "execution_count": 7,
   "metadata": {},
   "outputs": [
    {
     "data": {
      "text/plain": [
       "(1.9919498991144426, 2.2302723231077795)"
      ]
     },
     "execution_count": 7,
     "metadata": {},
     "output_type": "execute_result"
    }
   ],
   "source": [
    "sp.norm.interval(0.05,2.111111111111111,1.90029237516523)"
   ]
  }
 ],
 "metadata": {
  "kernelspec": {
   "display_name": "Python 3",
   "language": "python",
   "name": "python3"
  },
  "language_info": {
   "codemirror_mode": {
    "name": "ipython",
    "version": 3
   },
   "file_extension": ".py",
   "mimetype": "text/x-python",
   "name": "python",
   "nbconvert_exporter": "python",
   "pygments_lexer": "ipython3",
   "version": "3.7.4"
  }
 },
 "nbformat": 4,
 "nbformat_minor": 2
}

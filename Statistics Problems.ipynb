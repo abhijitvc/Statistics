{
 "cells": [
  {
   "cell_type": "markdown",
   "metadata": {},
   "source": [
    "# 1.  A large group of students took a test in Physics and the final grades have a mean of 71.78 and a standard deviation of 11.11. If we can approximate the distribution of these grades by a normal distribution, what percent of the students\n",
    "\n",
    "a. scored higher than 85?\n",
    "b. should pass the test (grades≥60)?\n",
    "c. should fail the test (grades<60)?"
   ]
  },
  {
   "cell_type": "code",
   "execution_count": 11,
   "metadata": {},
   "outputs": [],
   "source": [
    "import scipy.stats as sp\n",
    "import numpy as np\n",
    "import seaborn as sns\n",
    "\n",
    "#mean = 71.78\n",
    "\n",
    "#sd = 11.11\n",
    "\n"
   ]
  },
  {
   "cell_type": "code",
   "execution_count": 5,
   "metadata": {},
   "outputs": [
    {
     "data": {
      "text/plain": [
       "0.11703911654282828"
      ]
     },
     "execution_count": 5,
     "metadata": {},
     "output_type": "execute_result"
    }
   ],
   "source": [
    "#a. scored higher than 85\n",
    "\n",
    "1-sp.norm.cdf(85,71.78,11.11)"
   ]
  },
  {
   "cell_type": "code",
   "execution_count": 6,
   "metadata": {},
   "outputs": [
    {
     "data": {
      "text/plain": [
       "0.8554973017141121"
      ]
     },
     "execution_count": 6,
     "metadata": {},
     "output_type": "execute_result"
    }
   ],
   "source": [
    "#b. should pass the test (grades≥60)\n",
    "\n",
    "1-sp.norm.cdf(60,71.78,11.11)"
   ]
  },
  {
   "cell_type": "code",
   "execution_count": 7,
   "metadata": {},
   "outputs": [
    {
     "data": {
      "text/plain": [
       "0.14450269828588796"
      ]
     },
     "execution_count": 7,
     "metadata": {},
     "output_type": "execute_result"
    }
   ],
   "source": [
    "#c. should fail the test (grades<60)\n",
    "\n",
    "sp.norm.cdf(60,71.78,11.11)"
   ]
  },
  {
   "cell_type": "markdown",
   "metadata": {},
   "source": [
    "# 2.  A study was conducted to find average starting salary of recent high school graduates who started full-time jobs instead of college study. A random sample of size 91 gave a sample mean salary of Rs. 22,500 with a standard deviation of Rs. 2409. Find a 95% confidence interval for average starting income."
   ]
  },
  {
   "cell_type": "code",
   "execution_count": 10,
   "metadata": {},
   "outputs": [
    {
     "data": {
      "text/plain": [
       "(22005.04673340358, 22994.95326659642)"
      ]
     },
     "execution_count": 10,
     "metadata": {},
     "output_type": "execute_result"
    }
   ],
   "source": [
    "#n = 91\n",
    "\n",
    "#mean = 22500\n",
    "\n",
    "#sd = 2409\n",
    "\n",
    "sp.norm.interval(0.95,22500,2409/np.sqrt(91))"
   ]
  },
  {
   "cell_type": "markdown",
   "metadata": {},
   "source": [
    "# 3.  Follow the instructions given below; (Use Python Programming)\n",
    "[5 Marks]\n",
    "a. Generate 3000 random numbers from Normal distribution with mean 168.5 and standard deviation 12.4. (say A)\n",
    "1\n",
    "b. Generate 3000 random numbers from Normal distribution with mean 112.8 and standard deviation 14.3. (Say B)\n",
    "1\n",
    "c. Add A and B data points (say C=A+B). Use suitable method/test to verify, if the new variable (C) follows Normal distribution. Justify your answer."
   ]
  },
  {
   "cell_type": "code",
   "execution_count": 13,
   "metadata": {},
   "outputs": [
    {
     "data": {
      "text/plain": [
       "array([167.72944182, 171.10191691, 163.05962587, ..., 194.74766125,\n",
       "       167.30028332, 148.8279448 ])"
      ]
     },
     "execution_count": 13,
     "metadata": {},
     "output_type": "execute_result"
    }
   ],
   "source": [
    "a = np.random.normal(168.5,12.4,3000)\n",
    "\n",
    "a"
   ]
  },
  {
   "cell_type": "code",
   "execution_count": 14,
   "metadata": {},
   "outputs": [
    {
     "data": {
      "text/plain": [
       "array([145.83209367, 113.79706698,  86.79936717, ..., 122.06439252,\n",
       "        96.32661843,  80.37602001])"
      ]
     },
     "execution_count": 14,
     "metadata": {},
     "output_type": "execute_result"
    }
   ],
   "source": [
    "b = np.random.normal(112.8,14.3,3000)\n",
    "b"
   ]
  },
  {
   "cell_type": "code",
   "execution_count": 16,
   "metadata": {},
   "outputs": [
    {
     "data": {
      "text/plain": [
       "array([313.5615355 , 284.89898388, 249.85899304, ..., 316.81205377,\n",
       "       263.62690175, 229.2039648 ])"
      ]
     },
     "execution_count": 16,
     "metadata": {},
     "output_type": "execute_result"
    }
   ],
   "source": [
    "c = np.array(a) + np.array(b)\n",
    "\n",
    "c"
   ]
  },
  {
   "cell_type": "code",
   "execution_count": 18,
   "metadata": {},
   "outputs": [
    {
     "data": {
      "text/plain": [
       "(0.9994869232177734, 0.6304984092712402)"
      ]
     },
     "execution_count": 18,
     "metadata": {},
     "output_type": "execute_result"
    }
   ],
   "source": [
    "sw = sp.shapiro(c)\n",
    "sw"
   ]
  },
  {
   "cell_type": "markdown",
   "metadata": {},
   "source": [
    "# 4. It is known that on a certain highway there are on the average 2 accidents per day.\n",
    "[5 Marks]\n",
    "a. Find the probability that in a given week there will be less than 3 accidents.\n",
    "2.5\n",
    "b. Find the probability that in a given week there will be greater than 3 and less than 7 accidents."
   ]
  },
  {
   "cell_type": "code",
   "execution_count": 23,
   "metadata": {},
   "outputs": [
    {
     "data": {
      "text/plain": [
       "9.396274525870306e-05"
      ]
     },
     "execution_count": 23,
     "metadata": {},
     "output_type": "execute_result"
    }
   ],
   "source": [
    "#a\n",
    "\n",
    "sp.poisson.cdf(2,14)"
   ]
  },
  {
   "cell_type": "code",
   "execution_count": 25,
   "metadata": {},
   "outputs": [
    {
     "data": {
      "text/plain": [
       "0.014133955599002814"
      ]
     },
     "execution_count": 25,
     "metadata": {},
     "output_type": "execute_result"
    }
   ],
   "source": [
    "#b\n",
    "\n",
    "sp.poisson.cdf(6,14)-sp.poisson.cdf(2,14)"
   ]
  },
  {
   "cell_type": "markdown",
   "metadata": {},
   "source": [
    "# 5.  It is claimed that a random sample of 200 tyres with a mean life of 12450 kms is drawn from a population of tyres which has a mean life of 14200 kms and a standard deviation of 1248 kms. Test the validity of claim at 5% level of significance."
   ]
  },
  {
   "cell_type": "code",
   "execution_count": 26,
   "metadata": {},
   "outputs": [
    {
     "data": {
      "text/plain": [
       "-1.9599639845400545"
      ]
     },
     "execution_count": 26,
     "metadata": {},
     "output_type": "execute_result"
    }
   ],
   "source": [
    "sp.norm.ppf(0.025)"
   ]
  },
  {
   "cell_type": "code",
   "execution_count": 27,
   "metadata": {},
   "outputs": [
    {
     "data": {
      "text/plain": [
       "1.959963984540054"
      ]
     },
     "execution_count": 27,
     "metadata": {},
     "output_type": "execute_result"
    }
   ],
   "source": [
    "sp.norm.ppf(0.975)"
   ]
  },
  {
   "cell_type": "code",
   "execution_count": 29,
   "metadata": {},
   "outputs": [
    {
     "name": "stdout",
     "output_type": "stream",
     "text": [
      "-19.83071902366119\n"
     ]
    }
   ],
   "source": [
    "import scipy.stats as sp\n",
    "import numpy as np\n",
    "\n",
    "xbar = 12450\n",
    "\n",
    "mu_zero = 14200\n",
    "\n",
    "sigma = 1248\n",
    "\n",
    "n = 200\n",
    "\n",
    "a = xbar-mu_zero\n",
    "\n",
    "b = sigma/np.sqrt(n)\n",
    "\n",
    "z = a/b\n",
    "\n",
    "print(z)"
   ]
  },
  {
   "cell_type": "code",
   "execution_count": 30,
   "metadata": {},
   "outputs": [
    {
     "name": "stdout",
     "output_type": "stream",
     "text": [
      "H0 is rejected.\n"
     ]
    }
   ],
   "source": [
    "z_alpha = 1.96\n",
    "\n",
    "if z<z_alpha:\n",
    "    print(\"H0 is rejected.\")\n",
    "else:\n",
    "    print(\"H0 is accepted.\")"
   ]
  },
  {
   "cell_type": "markdown",
   "metadata": {},
   "source": [
    "# 6.  Experiments have been established to test electric bulbs. The life of bulbs is found normally distributed with mean 13279 hrs. and standard deviation 1256 hrs. A bulb manufacturing company decides to replace fused (failed) bulbs free of cost which fails to meet a certain minimum life then, what should be the minimum life of bulb, company must guarantee if the company can afford to replace only half percent of the bulbs sold."
   ]
  },
  {
   "cell_type": "code",
   "execution_count": 31,
   "metadata": {},
   "outputs": [
    {
     "data": {
      "text/plain": [
       "10043.758394742581"
      ]
     },
     "execution_count": 31,
     "metadata": {},
     "output_type": "execute_result"
    }
   ],
   "source": [
    "sp.norm.ppf(0.005,13279,1256)"
   ]
  },
  {
   "cell_type": "markdown",
   "metadata": {},
   "source": [
    "# 7.  The sales data related to an ice-cream brand before and after a campaign are as follows:\n",
    "[5 Marks]\n",
    "\n",
    "Shops: a b c d e f\n",
    "Before Campaign: 530 280 310 480 500 420\n",
    "After Campaign: 580 290 300 550 560 450\n",
    "Is campaign successful? Test at 5% level of significance."
   ]
  },
  {
   "cell_type": "code",
   "execution_count": 33,
   "metadata": {},
   "outputs": [
    {
     "data": {
      "text/plain": [
       "Ttest_relResult(statistic=-2.7815179498365916, pvalue=0.0388322974181411)"
      ]
     },
     "execution_count": 33,
     "metadata": {},
     "output_type": "execute_result"
    }
   ],
   "source": [
    "before = [530,280,310,480,500,420]\n",
    "after = [580,290,300,550,560,450]\n",
    "\n",
    "sp.ttest_rel(before,after) #paired T-test formula"
   ]
  },
  {
   "cell_type": "markdown",
   "metadata": {},
   "source": [
    "# 8.  Among a group of people from small town, 45% are drinkers and remaining are non-drinkers. The probability of a drinker dying in a given month is 0.04 while the probability for a non-drinker is 0.01. Given that, in a month one person dies, what is the probability that he is a drinkers."
   ]
  },
  {
   "cell_type": "code",
   "execution_count": null,
   "metadata": {},
   "outputs": [],
   "source": [
    "p = 0.45*0.04/(0.45*0.04)+(0.55*0.01)"
   ]
  },
  {
   "cell_type": "markdown",
   "metadata": {},
   "source": [
    "# 9.  Wankhede Stadium has 6 light towers with 25 high-intensity flood lights mounted on each. Sometimes an entire light tower will go dark. Mr. Gupta, Head of maintenance, wonder what the distribution of light tower failure is! He knows that any individual tower has a probability of 0.05 of failure during cricket game and that the towers fail independently. In order to play game at least 3 towers should be working. What is the probability that randomly selected game calls off because of floodlight issue?"
   ]
  },
  {
   "cell_type": "code",
   "execution_count": 36,
   "metadata": {},
   "outputs": [
    {
     "data": {
      "text/plain": [
       "0.0022298437500000157"
      ]
     },
     "execution_count": 36,
     "metadata": {},
     "output_type": "execute_result"
    }
   ],
   "source": [
    "1-sp.binom.cdf(2,6,0.05)"
   ]
  }
 ],
 "metadata": {
  "kernelspec": {
   "display_name": "Python 3",
   "language": "python",
   "name": "python3"
  },
  "language_info": {
   "codemirror_mode": {
    "name": "ipython",
    "version": 3
   },
   "file_extension": ".py",
   "mimetype": "text/x-python",
   "name": "python",
   "nbconvert_exporter": "python",
   "pygments_lexer": "ipython3",
   "version": "3.7.4"
  }
 },
 "nbformat": 4,
 "nbformat_minor": 2
}

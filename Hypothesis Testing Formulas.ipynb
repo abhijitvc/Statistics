{
 "cells": [
  {
   "cell_type": "markdown",
   "metadata": {},
   "source": [
    "#  Testing of Hypothesis (with formula)"
   ]
  },
  {
   "cell_type": "code",
   "execution_count": 2,
   "metadata": {
    "collapsed": true
   },
   "outputs": [],
   "source": [
    "import scipy.stats as ss\n",
    "import numpy as np"
   ]
  },
  {
   "cell_type": "markdown",
   "metadata": {},
   "source": [
    "# Z Tests"
   ]
  },
  {
   "cell_type": "markdown",
   "metadata": {
    "collapsed": true
   },
   "source": [
    "### 1. Teat for Mean (Z-test)"
   ]
  },
  {
   "cell_type": "code",
   "execution_count": 5,
   "metadata": {},
   "outputs": [
    {
     "name": "stdout",
     "output_type": "stream",
     "text": [
      "-1.6898056659208576 -1.9599639845400545\n"
     ]
    }
   ],
   "source": [
    "Xbar=2.98\n",
    "SD=0.82\n",
    "Mu0=3.14\n",
    "Alpha=0.025 #(at 5% los: Use Lower_alpha=0.05, upper_alpha=0.95, twotailed_alpha=0.025)\n",
    "n=75\n",
    "Z=(Xbar-Mu0)*(n**0.5)/SD\n",
    "cri=ss.norm.ppf(Alpha) #if it is two tailed consider resultant value as +/-.\n",
    "print(Z,cri)"
   ]
  },
  {
   "cell_type": "markdown",
   "metadata": {},
   "source": [
    "#  p value code: \n",
    "### while testing at 5% LOS.\n",
    "###### ______ ________ __________ ______  ______ ________ __________ ______  ______ ________ __________ ______ ______ ________ __________ ______  ______ ________ __________ ______  ______ ________\n",
    "#### Case I. Right tailed test (upper): [1 - ss.norm.cdf(Zcalculated)]  and compare it with 5%.\n",
    "###### ______ ________ __________ ______  ______ ________ __________ ______  ______ ________ __________ ______ ______ ________ __________ ______  ______ ________ __________ ______  ______ ________\n",
    "##### Case II. Left tailed test (lower): [ss.norm.cdf(Zcalculated)] and compare it with 5%.\n",
    "###### ______ ________ __________ ______  ______ ________ __________ ______  ______ ________ __________ ______ ______ ________ __________ ______  ______ ________ __________ ______  ______ ________\n",
    "#### Case III. Two tailed test: [2*(1-ss.norm.cdf(abs(Zcalculated)))] and compare it with 5%. \n",
    "#### OR [(1-ss.norm.cdf(abs(Zcalculated)))] and compare it with 2.5%.\n",
    "###### ______ ________ __________ ______  ______ ________ __________ ______  ______ ________ __________ ______ ______ ________ __________ ______  ______ ________ __________ ______  ______ ________"
   ]
  },
  {
   "cell_type": "markdown",
   "metadata": {},
   "source": [
    "### 2. Test for equality of Means (Z-test)"
   ]
  },
  {
   "cell_type": "code",
   "execution_count": 10,
   "metadata": {},
   "outputs": [
    {
     "name": "stdout",
     "output_type": "stream",
     "text": [
      "0.2785787366268473 2.3263478740408408\n"
     ]
    }
   ],
   "source": [
    "X1bar=5.2\n",
    "SD1=7.93\n",
    "X2bar=5\n",
    "SD2=4.8\n",
    "n1=155\n",
    "n2=210\n",
    "Alpha=0.99 #(at 5% los: use Lower_alpha=0.05, upper_alpha=0.95, twotailed_alpha=0.025)\n",
    "Z=((X1bar-X2bar))/((SD1**2/n1)+(SD2**2/n2))**(0.5)\n",
    "cri=ss.norm.ppf(Alpha) #if it is two tailed consider resultant value as +/-.\n",
    "print(Z, cri)"
   ]
  },
  {
   "cell_type": "markdown",
   "metadata": {},
   "source": [
    "### 3. Test for Proportion (Z-test)"
   ]
  },
  {
   "cell_type": "code",
   "execution_count": null,
   "metadata": {
    "collapsed": true
   },
   "outputs": [],
   "source": [
    "x=\n",
    "n=\n",
    "p=x/n\n",
    "P0=\n",
    "Alpha= #(at 5% los: Use Lower_alpha=0.05, upper_alpha=0.95, twotailed_alpha=0.025)\n",
    "Z=(p-P0)/((P0*(1-P0)/n)**(0.5))\n",
    "cri=ss.norm.ppf(Alpha) #if it is two tailed consider resultant value as +/-."
   ]
  },
  {
   "cell_type": "markdown",
   "metadata": {},
   "source": [
    "### 4. Test for equality of Proportion (Z-test)"
   ]
  },
  {
   "cell_type": "code",
   "execution_count": null,
   "metadata": {
    "collapsed": true
   },
   "outputs": [],
   "source": [
    "x1=\n",
    "n1=\n",
    "p1=x1/n1\n",
    "x2=\n",
    "n2=\n",
    "p2=x2/n2\n",
    "Pcap=((x1+x2)/(n1+n2))\n",
    "Alpha= #(at 5% los: Use Lower_alpha=0.05, upper_alpha=0.95, twotailed_alpha=0.025)\n",
    "Z=(p1-p2)/(((Pcap*(1-Pcap))*((1/n1)+(1/n2)))**(0.5))\n",
    "cri=ss.norm.ppf(Alpha) #if it is two tailed consider resultant value as +/-."
   ]
  },
  {
   "cell_type": "markdown",
   "metadata": {},
   "source": [
    "# t Tests"
   ]
  },
  {
   "cell_type": "markdown",
   "metadata": {},
   "source": [
    "### 1. Teat for Mean (t-test)"
   ]
  },
  {
   "cell_type": "code",
   "execution_count": null,
   "metadata": {
    "collapsed": true
   },
   "outputs": [],
   "source": [
    "Xbar=\n",
    "SD=\n",
    "Mu0=\n",
    "Alpha= #(at 5% los: Use Lower_alpha=0.05, upper_alpha=0.95, twotailed_alpha=0.025)\n",
    "n=\n",
    "t=(Xbar-Mu0)*(n**0.5)/SD\n",
    "cri=ss.t.ppf(Alpha,(n-1)) #if it is two tailed consider resultant value as +/-."
   ]
  },
  {
   "cell_type": "markdown",
   "metadata": {},
   "source": [
    "### 2. Test for equality of Means (t-test)"
   ]
  },
  {
   "cell_type": "code",
   "execution_count": null,
   "metadata": {
    "collapsed": true
   },
   "outputs": [],
   "source": [
    "s1=\n",
    "s2=\n",
    "n1=\n",
    "n2=\n",
    "x1bar=\n",
    "x2bar="
   ]
  },
  {
   "cell_type": "code",
   "execution_count": null,
   "metadata": {
    "collapsed": true
   },
   "outputs": [],
   "source": [
    "k=s1/s2\n",
    "print(k)\n",
    "if k<=2 and k>=0.5:\n",
    "    print(\"Use equal variance case\")\n",
    "else:\n",
    "    print(\"Use unequal variance case\")"
   ]
  },
  {
   "cell_type": "markdown",
   "metadata": {},
   "source": [
    "#### Case 1: Unequal variance"
   ]
  },
  {
   "cell_type": "code",
   "execution_count": null,
   "metadata": {
    "collapsed": true
   },
   "outputs": [],
   "source": [
    "Alpha= #(at 5% los: use Lower_alpha=0.05, upper_alpha=0.95, twotailed_alpha=0.025)\n",
    "t=(X1bar-X2bar))/((SD1**2/n1)+(SD2**2/n2))**(0.5)\n",
    "\n",
    "N=((s1**2/n1)+(s2**2/n2))**2\n",
    "D1=(1/(n1-1))*((s1**2)/n1)**2\n",
    "D2=(1/(n2-1))*((s2**2)/n2)**2\n",
    "df=N/(D1+D2)\n",
    "cri=ss.t.ppf(Alpha,df) #if it is two tailed consider resultant value as +/-."
   ]
  },
  {
   "cell_type": "markdown",
   "metadata": {},
   "source": [
    "#### Case 2: Equal variance"
   ]
  },
  {
   "cell_type": "code",
   "execution_count": null,
   "metadata": {
    "collapsed": true
   },
   "outputs": [],
   "source": [
    "Alpha= #(at 5% los: use Lower_alpha=0.05, upper_alpha=0.95, twotailed_alpha=0.025)\n",
    "Sp=(((n1-1)*(s1**2)/(n1+n2-2))+((n2-1)*(s2**2)/(n1+n2-2)))**(1/2)\n",
    "t=(X1bar-X2bar))/(Sp*((1/n1)+(1/n2)))**(0.5)\n",
    "cri=ss.t.ppf(Alpha,(n1+n2-2)) #if it is two tailed consider resultant value as +/-."
   ]
  },
  {
   "cell_type": "markdown",
   "metadata": {},
   "source": [
    "### 3. Paired t-Test"
   ]
  },
  {
   "cell_type": "code",
   "execution_count": null,
   "metadata": {
    "collapsed": true
   },
   "outputs": [],
   "source": [
    "Xbar_diff=\n",
    "SD_diff=\n",
    "n=\n",
    "Alpha= #(at 5% los: Use Lower_alpha=0.05, upper_alpha=0.95, twotailed_alpha=0.025)\n",
    "t=(Xbar_diff)*(n**0.5)/SD_diff\n",
    "cri=ss.t.ppf(Alpha,(n-1)) #if it is two tailed consider resultant value as +/-."
   ]
  },
  {
   "cell_type": "markdown",
   "metadata": {},
   "source": [
    "# Chi_square Test"
   ]
  },
  {
   "cell_type": "markdown",
   "metadata": {},
   "source": [
    "### Test for variance"
   ]
  },
  {
   "cell_type": "code",
   "execution_count": null,
   "metadata": {
    "collapsed": true
   },
   "outputs": [],
   "source": [
    "s=\n",
    "sigma=\n",
    "n=\n",
    "Alpha= #(at 5% los: Use Lower_alpha1=0.05, upper_alpha=0.95, twotailed_alpha=0.025)\n",
    "chi2=(n-1)*(s**2)/sigma**2\n",
    "crik1=ss.chi2.ppf(Alpha,(n-1))\n",
    "crik2=ss.chi2.ppf(1-Alpha,(n-1))"
   ]
  },
  {
   "cell_type": "markdown",
   "metadata": {},
   "source": [
    "# F Test"
   ]
  },
  {
   "cell_type": "markdown",
   "metadata": {},
   "source": [
    "### Test for equality of variance"
   ]
  },
  {
   "cell_type": "code",
   "execution_count": null,
   "metadata": {
    "collapsed": true
   },
   "outputs": [],
   "source": [
    "s1=\n",
    "s2=\n",
    "n1=\n",
    "n2=\n",
    "Alpha= #(at 5% los: Use Lower_alpha=0.05, upper_alpha=0.95, twotailed_alpha=0.025)\n",
    "F=s1**2/s2**2\n",
    "crik1=ss.f.ppf(Alpha,(n1-1),(n2-1)) \n",
    "crik2=ss.f.ppf(1-Alpha,(n1-1),(n2-1))"
   ]
  }
 ],
 "metadata": {
  "kernelspec": {
   "display_name": "Python 3",
   "language": "python",
   "name": "python3"
  },
  "language_info": {
   "codemirror_mode": {
    "name": "ipython",
    "version": 3
   },
   "file_extension": ".py",
   "mimetype": "text/x-python",
   "name": "python",
   "nbconvert_exporter": "python",
   "pygments_lexer": "ipython3",
   "version": "3.7.4"
  }
 },
 "nbformat": 4,
 "nbformat_minor": 2
}

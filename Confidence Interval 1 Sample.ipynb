{
 "cells": [
  {
   "cell_type": "code",
   "execution_count": 1,
   "metadata": {},
   "outputs": [],
   "source": [
    "import scipy.stats as sp\n",
    "import numpy as np"
   ]
  },
  {
   "cell_type": "markdown",
   "metadata": {},
   "source": [
    "# 1.  A sample of same kind of patients is tested to assess the amount of time in stage IV sleep. It has been hypothesized that individuals suffering from particular disease may spend less time per night in the deeper stages of sleep. Number of minutes spent is Stage IV sleep is recorded for sixty-one patients. The sample produced a mean of 48 minutes with standard deviation 14 minutes of stage IV sleep over a 24-hour period of time. Compute a 95% confidence interval. What does this information tell you about a particular patient’s stage IV sleep?"
   ]
  },
  {
   "cell_type": "code",
   "execution_count": 4,
   "metadata": {},
   "outputs": [
    {
     "data": {
      "text/plain": [
       "(44.48676455771195, 51.51323544228805)"
      ]
     },
     "execution_count": 4,
     "metadata": {},
     "output_type": "execute_result"
    }
   ],
   "source": [
    "#1\n",
    "\n",
    "\n",
    "\n",
    "#mean = 48, S.D. = 14, CI = 95%, n=61\n",
    "\n",
    "# We thus conclude that the average amount of sleep for the patients with this particular disease has less sleep\n",
    "# in stage iv than compared to the general population.\n",
    "\n",
    "sp.norm.interval(0.95,48,1.7925) #sp.norm.interval(CI,mean,S.D. of sample)"
   ]
  },
  {
   "cell_type": "markdown",
   "metadata": {},
   "source": [
    "# 2.  A school administrator wants to know what proportion of the approximately 80,000 teachers in their state have a Master's degree. The administrator takes an SRS of 100 teachers from a state-wide database containing every teacher, and they find 55 teachers in the sample have a Master's degree. Based on this sample, calculate 99% confidence interval for the proportion of teachers in the state with a Master's degree?"
   ]
  },
  {
   "cell_type": "code",
   "execution_count": 5,
   "metadata": {},
   "outputs": [
    {
     "name": "stdout",
     "output_type": "stream",
     "text": [
      "0.55\n"
     ]
    }
   ],
   "source": [
    "#PCAP FORMULA\n",
    "\n",
    "proportion = 55\n",
    "\n",
    "n = 100\n",
    "\n",
    "pcap = proportion/n\n",
    "\n",
    "print(pcap)"
   ]
  },
  {
   "cell_type": "code",
   "execution_count": 6,
   "metadata": {},
   "outputs": [
    {
     "name": "stdout",
     "output_type": "stream",
     "text": [
      "alpha :  0.010000000000000009\n",
      "\n",
      "alpha / 2 :  0.0050000000000000044\n",
      "\n",
      "(1-aplha/2) :  0.995\n",
      "\n",
      "STANDARD DEVIATION OF SAMPLING DISTRIBUTION  :  0.049749371855330994\n",
      "\n",
      "Z (aplha/2) :  -2.5758293035489004\n",
      "Z (1-(alpha/2)) 2.5758293035489004\n",
      "\n",
      "MARGIN OF ERROR :  0.1281458898581125\n",
      "\n",
      "(0.42185411014188756, 0.6781458898581125)\n"
     ]
    }
   ],
   "source": [
    "import scipy.stats as sp\n",
    "import numpy as np\n",
    "\n",
    "Pcap= 0.55\n",
    "n=100\n",
    "confidence_level= 0.99     #if CL is 95%, then give input as 0.95\n",
    "a= (1-confidence_level)\n",
    "a2=  a / 2\n",
    "_1_a2 =  1- a2\n",
    "std=np.sqrt((Pcap*(1-Pcap))/n)\n",
    "print(\"alpha : \",a)\n",
    "print()\n",
    "print(\"alpha / 2 : \",a2)\n",
    "print()\n",
    "print(\"(1-aplha/2) : \",_1_a2)\n",
    "print()\n",
    "print('STANDARD DEVIATION OF SAMPLING DISTRIBUTION  : ',std)\n",
    "print()\n",
    "print('Z (aplha/2) : ',sp.norm.ppf(a2))\n",
    "print('Z (1-(alpha/2))',sp.norm.ppf(_1_a2))\n",
    "print()\n",
    "print ( 'MARGIN OF ERROR : ',abs(sp.norm.ppf(a2)*std))\n",
    "print()\n",
    "print(sp.norm.interval(confidence_level,Pcap,std))"
   ]
  },
  {
   "cell_type": "markdown",
   "metadata": {},
   "source": [
    "# 3.  Sample of 15 test-tubes tested for number of times they can be heated on Bunsen burner before they cracked gave sample mean = 1,230, sample sd = 270. Construct 99% confidence interval for μ.\n"
   ]
  },
  {
   "cell_type": "code",
   "execution_count": 7,
   "metadata": {},
   "outputs": [
    {
     "name": "stdout",
     "output_type": "stream",
     "text": [
      "alpha :  0.010000000000000009\n",
      "\n",
      "alpha / 2 :  0.0050000000000000044\n",
      "\n",
      "(1-aplha/2) :  0.995\n",
      "\n",
      "STANDARD DEVIATION OF SAMPLING DISTRIBUTION  :  69.7137002317335\n",
      "\n",
      "t (aplha/2) :  -2.97684273411266\n",
      "t 1-(alpha/2) :  2.97684273411266\n",
      "\n",
      "MARGIN OF ERROR :  207.52672200294393\n",
      "\n",
      "(1022.4732779970561, 1437.5267220029439)\n"
     ]
    }
   ],
   "source": [
    "import scipy.stats as sp\n",
    "import numpy as np\n",
    "\n",
    "n=15  \n",
    "confidence_level=0.99  #if CL is 95%, then give input as 0.95\n",
    "sample_mean=1230\n",
    "std_of_sample= 270\n",
    "degree_of_freedom= n-1\n",
    "a= (1-confidence_level)\n",
    "a2=  a / 2\n",
    "_1_a2 =  1- a2\n",
    "std_of_sampling_distribution= std_of_sample / np.sqrt(n)\n",
    "print(\"alpha : \",a)\n",
    "print()\n",
    "print(\"alpha / 2 : \",a2)\n",
    "print()\n",
    "print(\"(1-aplha/2) : \",_1_a2)\n",
    "print() \n",
    "print('STANDARD DEVIATION OF SAMPLING DISTRIBUTION  : ',std_of_sampling_distribution)\n",
    "print()\n",
    "print('t (aplha/2) : ',sp.t.ppf(a2,degree_of_freedom))\n",
    "print('t 1-(alpha/2) : ',sp.t.ppf(_1_a2,degree_of_freedom) )\n",
    "print()\n",
    "print ( 'MARGIN OF ERROR : ',abs(sp.t.ppf(a2,degree_of_freedom))*std_of_sampling_distribution)\n",
    "print()\n",
    "print(sp.t.interval(confidence_level,degree_of_freedom,sample_mean,std_of_sampling_distribution))"
   ]
  },
  {
   "cell_type": "markdown",
   "metadata": {},
   "source": [
    "# 4.  A major metropolitan newspaper selected a simple random sample of 1,600 readers from their list of 100,000 subscribers. They asked whether the paper should increase its coverage of local news. Forty percent of the sample wanted more local news. What is the 99% confidence interval for the proportion of readers who would like more coverage of local news?"
   ]
  },
  {
   "cell_type": "code",
   "execution_count": 8,
   "metadata": {},
   "outputs": [
    {
     "name": "stdout",
     "output_type": "stream",
     "text": [
      "alpha :  0.010000000000000009\n",
      "\n",
      "alpha / 2 :  0.0050000000000000044\n",
      "\n",
      "(1-aplha/2) :  0.995\n",
      "\n",
      "STANDARD DEVIATION OF SAMPLING DISTRIBUTION  :  0.01224744871391589\n",
      "\n",
      "Z (aplha/2) :  -2.5758293035489004\n",
      "Z (1-(alpha/2)) 2.5758293035489004\n",
      "\n",
      "MARGIN OF ERROR :  0.03154733729101684\n",
      "\n",
      "(0.3684526627089832, 0.43154733729101685)\n"
     ]
    }
   ],
   "source": [
    "import scipy.stats as sp\n",
    "import numpy as np\n",
    "\n",
    "Pcap= 0.40\n",
    "n=1600\n",
    "confidence_level= 0.99     #if CL is 95%, then give input as 0.95\n",
    "a= (1-confidence_level)\n",
    "a2=  a / 2\n",
    "_1_a2 =  1- a2\n",
    "std=np.sqrt((Pcap*(1-Pcap))/n)\n",
    "print(\"alpha : \",a)\n",
    "print()\n",
    "print(\"alpha / 2 : \",a2)\n",
    "print()\n",
    "print(\"(1-aplha/2) : \",_1_a2)\n",
    "print()\n",
    "print('STANDARD DEVIATION OF SAMPLING DISTRIBUTION  : ',std)\n",
    "print()\n",
    "print('Z (aplha/2) : ',sp.norm.ppf(a2))\n",
    "print('Z (1-(alpha/2))',sp.norm.ppf(_1_a2))\n",
    "print()\n",
    "print ( 'MARGIN OF ERROR : ',abs(sp.norm.ppf(a2)*std))\n",
    "print()\n",
    "print(sp.norm.interval(confidence_level,Pcap,std))"
   ]
  },
  {
   "cell_type": "markdown",
   "metadata": {},
   "source": [
    "# 5.  In a study on cholesterol levels a sample of 12 men and women was chosen. The plasma cholesterol levels (mmol/L) of 12 peoples were as follows: 6.0, 6.4, 7.0, 5.8, 6.0, 5.8, 5.9, 6.7, 6.1, 6.5, 6.3, and 5.8. We assume that these peoples constitute a simple random sample of a population of similar subjects. We wish to estimate the variance of the plasma cholesterol levels with a 95% confidence interval."
   ]
  },
  {
   "cell_type": "code",
   "execution_count": 1,
   "metadata": {},
   "outputs": [
    {
     "name": "stdout",
     "output_type": "stream",
     "text": [
      "Mean = 6.191666666666667\n",
      "\n",
      "Standard Deviation = 0.3918680977836881\n",
      "\n",
      "0.15356060606060612\n"
     ]
    }
   ],
   "source": [
    "#5.\n",
    "\n",
    "#CI = 95%, calculate, variance = ?\n",
    "\n",
    "import scipy.stats as sp\n",
    "import numpy as np\n",
    "\n",
    "n=12\n",
    "\n",
    "#dof = n-1 = 11\n",
    "\n",
    "levels = [6.0,6.4,7.0,5.8,6.0,5.8,5.9,6.7,6.1,6.5,6.3,5.8]\n",
    "\n",
    "mean = np.mean(levels)\n",
    "\n",
    "standard_deviation = np.std(levels,ddof=1)\n",
    "\n",
    "variance = (standard_deviation**2)\n",
    "\n",
    "print('Mean =',mean)\n",
    "print()\n",
    "print('Standard Deviation =',standard_deviation)\n",
    "print()\n",
    "print(variance)"
   ]
  },
  {
   "cell_type": "code",
   "execution_count": null,
   "metadata": {},
   "outputs": [],
   "source": [
    "#5\n",
    "\n",
    "#CL = 95%\n",
    "#n=12\n",
    "#mean_from_above=6.1917\n",
    "#dof=11\n",
    "\n",
    "#Standard Deviation, s: 0.39186809778369\n",
    "#Count, N:\t12\n",
    "#Sum, Σx:\t74.3\n",
    "#Mean, x̄:\t6.1916666666667\n",
    "#Variance, s2: \t0.15356060606061\n",
    "    \n",
    "sp.chi2.ppf(0.025,11)"
   ]
  },
  {
   "cell_type": "code",
   "execution_count": null,
   "metadata": {},
   "outputs": [],
   "source": [
    "sp.chi2.ppf(0.975,11)"
   ]
  },
  {
   "cell_type": "markdown",
   "metadata": {},
   "source": [
    "# 6.  Suppose a simple random sample of 150 students is drawn from a population of 3000 college students. Among sampled students, the average IQ score is 115 with a standard deviation of 10. What is the 99% confidence interval for the students' IQ score?"
   ]
  },
  {
   "cell_type": "code",
   "execution_count": 2,
   "metadata": {},
   "outputs": [
    {
     "name": "stdout",
     "output_type": "stream",
     "text": [
      "So the 99% C.I. for the students IQ score with Normal Distribution is (112.89683537365232, 117.10316462634768)\n",
      "\n",
      "And the 99% C.I. for the students IQ score with t-distribution is (112.86956541366327, 117.13043458633673)\n"
     ]
    }
   ],
   "source": [
    "import scipy.stats as sp\n",
    "import numpy as np\n",
    "\n",
    "#CI= 99%\n",
    "\n",
    "n = 150\n",
    "\n",
    "mean = 115\n",
    "\n",
    "SD = 10\n",
    "\n",
    "a = 10/np.sqrt(150)\n",
    "\n",
    "\n",
    "#for normal distribution\n",
    "sp.norm.interval(0.99,115,a)\n",
    "\n",
    "#for t distribution\n",
    "sp.t.interval(0.99,149,115,a)\n",
    "\n",
    "print('So the 99% C.I. for the students IQ score with Normal Distribution is',sp.norm.interval(0.99,115,0.8165))\n",
    "print()\n",
    "print('And the 99% C.I. for the students IQ score with t-distribution is',sp.t.interval(0.99,149,115,0.8165))"
   ]
  },
  {
   "cell_type": "code",
   "execution_count": 3,
   "metadata": {},
   "outputs": [
    {
     "name": "stdout",
     "output_type": "stream",
     "text": [
      "alpha :  0.010000000000000009\n",
      "\n",
      "alpha / 2 :  0.0050000000000000044\n",
      "\n",
      "(1-aplha/2) :  0.995\n",
      "\n",
      "STANDARD DEVIATION OF SAMPLING DISTRIBUTION  :  69.7137002317335\n",
      "\n",
      "t (aplha/2) :  -2.97684273411266\n",
      "t 1-(alpha/2) :  2.97684273411266\n",
      "\n",
      "MARGIN OF ERROR :  207.52672200294393\n",
      "\n",
      "(1022.4732779970561, 1437.5267220029439)\n"
     ]
    }
   ],
   "source": [
    "#3\n",
    "\n",
    "import scipy.stats as sp\n",
    "import numpy as np\n",
    "\n",
    "n=15  \n",
    "confidence_level=0.99  #if CL is 95%, then give input as 0.95\n",
    "sample_mean=1230\n",
    "std_of_sample= 270\n",
    "degree_of_freedom= n-1\n",
    "a= (1-confidence_level)\n",
    "a2=  a / 2\n",
    "_1_a2 =  1- a2\n",
    "std_of_sampling_distribution= std_of_sample / np.sqrt(n)\n",
    "print(\"alpha : \",a)\n",
    "print()\n",
    "print(\"alpha / 2 : \",a2)\n",
    "print()\n",
    "print(\"(1-aplha/2) : \",_1_a2)\n",
    "print() \n",
    "print('STANDARD DEVIATION OF SAMPLING DISTRIBUTION  : ',std_of_sampling_distribution)\n",
    "print()\n",
    "print('t (aplha/2) : ',sp.t.ppf(a2,degree_of_freedom))\n",
    "print('t 1-(alpha/2) : ',sp.t.ppf(_1_a2,degree_of_freedom) )\n",
    "print()\n",
    "print ( 'MARGIN OF ERROR : ',abs(sp.t.ppf(a2,degree_of_freedom))*std_of_sampling_distribution)\n",
    "print()\n",
    "print(sp.t.interval(confidence_level,degree_of_freedom,sample_mean,std_of_sampling_distribution))"
   ]
  },
  {
   "cell_type": "code",
   "execution_count": 4,
   "metadata": {},
   "outputs": [
    {
     "data": {
      "text/plain": [
       "(1022.4842930050065, 1437.5157069949935)"
      ]
     },
     "execution_count": 4,
     "metadata": {},
     "output_type": "execute_result"
    }
   ],
   "source": [
    "sp.t.interval(0.99,14,1230,69.71)"
   ]
  },
  {
   "cell_type": "code",
   "execution_count": null,
   "metadata": {},
   "outputs": [],
   "source": [
    "#4 Using umesh sir's formula for two populations\n",
    "\n",
    "p1 = float(input(\"Enter proportion 1: \"))\n",
    "p2 = float(input(\"Enter proportion 2: \"))\n",
    "\n",
    "n1 = int(input(\"Enter 1st sample size: \"))\n",
    "n2 = int(input(\"Enter 2nd sample size: \"))\n",
    "\n",
    "z1 = float(input(\"Enter (1-alpha/2) value: \"))\n",
    "z = sp.norm.pdf(z1)\n",
    "ans=[]\n",
    "\n",
    "p = p1-p2\n",
    "LowerLimit = p-z*(((p1*(1-p1))/n1)+(p2*(1-p2))/n2)**0.5\n",
    "ans.append(LowerLimit)\n",
    "\n",
    "UpperLimit = p-z*(((p1*(1-p1))/n1)+(p2*(1-p2))/n2)**0.5\n",
    "ans.append(UpperLimit)\n",
    "print(\"C.I.= \",ans)"
   ]
  },
  {
   "cell_type": "markdown",
   "metadata": {},
   "source": [
    "# Formula to calculate P value."
   ]
  },
  {
   "cell_type": "code",
   "execution_count": 16,
   "metadata": {},
   "outputs": [
    {
     "data": {
      "text/plain": [
       "0.4444380851347304"
      ]
     },
     "execution_count": 16,
     "metadata": {},
     "output_type": "execute_result"
    }
   ],
   "source": [
    "import numpy as np\n",
    "import math\n",
    "import scipy.stats as sp\n",
    "\n",
    "a=[0.021,0.019,0.023,0.020]\n",
    "\n",
    "xbar=np.mean(a)\n",
    "\n",
    "s=np.std(a,ddof=1)\n",
    "\n",
    "tcal=(xbar-0.02)*math.sqrt(4)/s #here the number(4) is number of samples in the list\n",
    "\n",
    "pvalue=2*(sp.t.cdf((-1)*np.absolute(tcal),3)) #here the number(3) is n-1=3 and the number 2 is for 2 tails\n",
    "pvalue"
   ]
  },
  {
   "cell_type": "markdown",
   "metadata": {},
   "source": [
    "# T-test 1 sample"
   ]
  },
  {
   "cell_type": "code",
   "execution_count": 17,
   "metadata": {},
   "outputs": [
    {
     "data": {
      "text/plain": [
       "(1.911180630900461, 0.09758793069366227)"
      ]
     },
     "execution_count": 17,
     "metadata": {},
     "output_type": "execute_result"
    }
   ],
   "source": [
    "from scipy.stats import ttest_1samp\n",
    "\n",
    "tset, pval = ttest_1samp((60,62,67,69,70,72,75,78), 65)\n",
    "\n",
    "tset, pval"
   ]
  },
  {
   "cell_type": "code",
   "execution_count": null,
   "metadata": {},
   "outputs": [],
   "source": [
    "#function for calculating the t-test for two independent samples\n",
    "def independent_ttest(data1, data2, alpha):\n",
    "# calculate means\n",
    "    mean1, mean2 = mean(data1), mean(data2)\n",
    "# calculate standard errors\n",
    "se1, se2 = sem(data1), sem(data2)\n",
    "# standard error on the difference between the samples\n",
    "sed = sqrt(se1**2.0 + se2**2.0)\n",
    "# calculate the t statistic\n",
    "t_stat = (mean1 - mean2) / sed\n",
    "# degrees of freedom\n",
    "df = len(data1) + len(data2) - 2\n",
    "# calculate the critical value\n",
    "cv = t.ppf(1.0 - alpha, df)\n",
    "# calculate the p-value\n",
    "p = (1.0 - t.cdf(abs(t_stat), df)) * 2.0\n",
    "#return everything\n",
    "return t_stat, df, cv, p"
   ]
  },
  {
   "cell_type": "code",
   "execution_count": 2,
   "metadata": {},
   "outputs": [
    {
     "data": {
      "text/plain": [
       "(15.981187966617036, 16.018812033382964)"
      ]
     },
     "execution_count": 2,
     "metadata": {},
     "output_type": "execute_result"
    }
   ],
   "source": [
    "sp.norm.interval(0.05,16,0.3)"
   ]
  },
  {
   "cell_type": "code",
   "execution_count": 3,
   "metadata": {},
   "outputs": [
    {
     "data": {
      "text/plain": [
       "(15.981187966617036, 16.018812033382964)"
      ]
     },
     "execution_count": 3,
     "metadata": {},
     "output_type": "execute_result"
    }
   ],
   "source": [
    "sp.norm.interval(0.05,16,3/np.sqrt(100))"
   ]
  }
 ],
 "metadata": {
  "kernelspec": {
   "display_name": "Python 3",
   "language": "python",
   "name": "python3"
  },
  "language_info": {
   "codemirror_mode": {
    "name": "ipython",
    "version": 3
   },
   "file_extension": ".py",
   "mimetype": "text/x-python",
   "name": "python",
   "nbconvert_exporter": "python",
   "pygments_lexer": "ipython3",
   "version": "3.7.4"
  }
 },
 "nbformat": 4,
 "nbformat_minor": 2
}
